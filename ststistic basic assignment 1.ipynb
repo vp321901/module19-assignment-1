{
 "cells": [
  {
   "cell_type": "code",
   "execution_count": 1,
   "id": "df117691-f218-4a1c-a2bc-ab68fe13bc5b",
   "metadata": {},
   "outputs": [],
   "source": [
    "          #ANSWER :1"
   ]
  },
  {
   "cell_type": "code",
   "execution_count": 3,
   "id": "8e4a42fe-0031-4e7b-85cd-8992f859bb46",
   "metadata": {},
   "outputs": [],
   "source": [
    "#Statistics is the study of the collection, analysis, interpretation, presentation, and organization of data"
   ]
  },
  {
   "cell_type": "code",
   "execution_count": 1,
   "id": "41a0a80f-1246-483c-8508-5590c67d2ae1",
   "metadata": {},
   "outputs": [],
   "source": [
    "          #ANSWER:-2"
   ]
  },
  {
   "cell_type": "code",
   "execution_count": 2,
   "id": "633d0cfa-049c-4561-9136-57c4679d2d70",
   "metadata": {},
   "outputs": [
    {
     "data": {
      "text/plain": [
       "'1.Descriptive Statistics\\nDefinition: Summarizes and describes the features of a dataset.\\nExample Use: A teacher calculates the average test score of a class to understand overall performance.\\n\\n2.Inferential Statistics\\nDefinition: Makes predictions or inferences about a population based on a sample.\\nExample Use: A pharmaceutical company conducts a clinical trial on a sample of patients to determine if a new drug is effective for the general population.'"
      ]
     },
     "execution_count": 2,
     "metadata": {},
     "output_type": "execute_result"
    }
   ],
   "source": [
    "\"\"\"1.Descriptive Statistics\n",
    "Definition: Summarizes and describes the features of a dataset.\n",
    "Example Use: A teacher calculates the average test score of a class to understand overall performance.\n",
    "\n",
    "2.Inferential Statistics\n",
    "Definition: Makes predictions or inferences about a population based on a sample.\n",
    "Example Use: A pharmaceutical company conducts a clinical trial on a sample of patients to determine if a new drug is effective for the general population.\"\"\""
   ]
  },
  {
   "cell_type": "code",
   "execution_count": 3,
   "id": "b8c10e30-df3c-4924-b828-30b31bf88382",
   "metadata": {},
   "outputs": [],
   "source": [
    "           #ANSWER:-3"
   ]
  },
  {
   "cell_type": "code",
   "execution_count": 4,
   "id": "495ec217-b311-44ce-a3b2-36ab220404c1",
   "metadata": {},
   "outputs": [
    {
     "data": {
      "text/plain": [
       "'Data can be classified into several types based on their nature and the scale of measurement. The main types of data are:\\n\\n1. Nominal Data\\nDefinition: Categorical data with no intrinsic ordering.\\nExample: Types of fruit (e.g., apples, oranges, bananas).\\n\\n2. Ordinal Data\\nDefinition: Categorical data with a meaningful order, but the intervals between values are not consistent.\\nExample: Customer satisfaction ratings (e.g., very satisfied, satisfied, neutral, dissatisfied, very dissatisfied).\\n\\n3. Interval Data\\nDefinition: Numerical data with meaningful intervals between values, but no true zero point.\\nExample: Temperature in Celsius or Fahrenheit.\\n\\n4. Ratio Data\\nDefinition: Numerical data with meaningful intervals and a true zero point.\\nExample: Height, weight, age, or income.\\n\\nKey Differences:\\nNominal vs. Ordinal: Nominal data are purely categorical without order, while ordinal data have a meaningful order.\\nOrdinal vs. Interval: Ordinal data have ordered categories, but the distances between them are not uniform. Interval data have consistent intervals but lack a true zero.\\nInterval vs. Ratio: Ratio data have all the properties of interval data, plus a true zero point, allowing for meaningful ratios.'"
      ]
     },
     "execution_count": 4,
     "metadata": {},
     "output_type": "execute_result"
    }
   ],
   "source": [
    "\"\"\"Data can be classified into several types based on their nature and the scale of measurement. The main types of data are:\n",
    "\n",
    "1. Nominal Data\n",
    "Definition: Categorical data with no intrinsic ordering.\n",
    "Example: Types of fruit (e.g., apples, oranges, bananas).\n",
    "\n",
    "2. Ordinal Data\n",
    "Definition: Categorical data with a meaningful order, but the intervals between values are not consistent.\n",
    "Example: Customer satisfaction ratings (e.g., very satisfied, satisfied, neutral, dissatisfied, very dissatisfied).\n",
    "\n",
    "3. Interval Data\n",
    "Definition: Numerical data with meaningful intervals between values, but no true zero point.\n",
    "Example: Temperature in Celsius or Fahrenheit.\n",
    "\n",
    "4. Ratio Data\n",
    "Definition: Numerical data with meaningful intervals and a true zero point.\n",
    "Example: Height, weight, age, or income.\n",
    "\n",
    "Key Differences:\n",
    "Nominal vs. Ordinal: Nominal data are purely categorical without order, while ordinal data have a meaningful order.\n",
    "Ordinal vs. Interval: Ordinal data have ordered categories, but the distances between them are not uniform. Interval data have consistent intervals but lack a true zero.\n",
    "Interval vs. Ratio: Ratio data have all the properties of interval data, plus a true zero point, allowing for meaningful ratios.\"\"\""
   ]
  },
  {
   "cell_type": "code",
   "execution_count": 5,
   "id": "023722a0-4c0f-46d5-84ce-fe4d39768c3d",
   "metadata": {},
   "outputs": [],
   "source": [
    "       #ANSWER:-4"
   ]
  },
  {
   "cell_type": "code",
   "execution_count": 6,
   "id": "be591749-ad26-417f-9be2-5c3bbe42d15c",
   "metadata": {},
   "outputs": [],
   "source": [
    "#1.Grading in exam: A+, A, B+, B, C+, C, D, E\n",
    "#Type: Ordinal (Qualitative data with a meaningful order but no numerical difference between categories)\n",
    "\n",
    "#2.Colour of mangoes: Yellow, green, orange, red\n",
    "#Type: Nominal (Qualitative data with no intrinsic order)\n",
    "\n",
    "#3.Height data of a class: [178.9, 179, 179.5, 176, 177.2, 178.3, 175.8,...]\n",
    "#Type: Continuous (Quantitative data that can take any value within a range)\n",
    "\n",
    "#4.Number of mangoes exported by a farm: [500, 600, 478, 672, ...]\n",
    "#Type: Discrete (Quantitative data that can take specific, countable values)"
   ]
  },
  {
   "cell_type": "code",
   "execution_count": 7,
   "id": "aeb11da0-c910-4b3a-a914-92a1e1b5efb1",
   "metadata": {},
   "outputs": [],
   "source": [
    "       #ANSWER:5"
   ]
  },
  {
   "cell_type": "code",
   "execution_count": 8,
   "id": "d01ec8a7-5178-4dab-a7e2-0f937fbcb31f",
   "metadata": {},
   "outputs": [
    {
     "data": {
      "text/plain": [
       "\"Levels of measurement describe the nature of information within the values assigned to variables and determine the types of statistical analyses that can be conducted. There are four levels of measurement: nominal, ordinal, interval, and ratio.\\n\\n1. Nominal Level\\nDefinition: The nominal level of measurement categorizes data without any order or ranking. Values are mutually exclusive and exhaustive categories.\\n\\nExample: Gender (Male, Female, Non-binary)\\n\\n2. Ordinal Level\\nDefinition: The ordinal level of measurement categorizes data with a meaningful order or ranking, but the intervals between the categories are not necessarily equal.\\n\\nExample: Education level (High School, Bachelor's, Master's, Doctorate)\\n\\n3. Interval Level\\nDefinition: The interval level of measurement involves data with ordered categories where the intervals between values are equal, but there is no true zero point.\\n\\nExample: Temperature in Celsius (0°C, 10°C, 20°C)\\n\\n4. Ratio Level\\nDefinition: The ratio level of measurement has all the properties of the interval level, with the addition of a true zero point, allowing for the calculation of ratios.\\n\\nExample: Weight (0 kg, 50 kg, 100 kg)\\n\\nSummary of Levels of Measurement:\\nNominal: Categories without order (e.g., types of fruit).\\nOrdinal: Ordered categories without equal intervals (e.g., ranking in a race).\\nInterval: Ordered categories with equal intervals, no true zero (e.g., IQ scores).\\nRatio: Ordered categories with equal intervals and a true zero (e.g., income).\""
      ]
     },
     "execution_count": 8,
     "metadata": {},
     "output_type": "execute_result"
    }
   ],
   "source": [
    "\"\"\"Levels of measurement describe the nature of information within the values assigned to variables and determine the types of statistical analyses that can be conducted. There are four levels of measurement: nominal, ordinal, interval, and ratio.\n",
    "\n",
    "1. Nominal Level\n",
    "Definition: The nominal level of measurement categorizes data without any order or ranking. Values are mutually exclusive and exhaustive categories.\n",
    "\n",
    "Example: Gender (Male, Female, Non-binary)\n",
    "\n",
    "2. Ordinal Level\n",
    "Definition: The ordinal level of measurement categorizes data with a meaningful order or ranking, but the intervals between the categories are not necessarily equal.\n",
    "\n",
    "Example: Education level (High School, Bachelor's, Master's, Doctorate)\n",
    "\n",
    "3. Interval Level\n",
    "Definition: The interval level of measurement involves data with ordered categories where the intervals between values are equal, but there is no true zero point.\n",
    "\n",
    "Example: Temperature in Celsius (0°C, 10°C, 20°C)\n",
    "\n",
    "4. Ratio Level\n",
    "Definition: The ratio level of measurement has all the properties of the interval level, with the addition of a true zero point, allowing for the calculation of ratios.\n",
    "\n",
    "Example: Weight (0 kg, 50 kg, 100 kg)\n",
    "\n",
    "Summary of Levels of Measurement:\n",
    "Nominal: Categories without order (e.g., types of fruit).\n",
    "Ordinal: Ordered categories without equal intervals (e.g., ranking in a race).\n",
    "Interval: Ordered categories with equal intervals, no true zero (e.g., IQ scores).\n",
    "Ratio: Ordered categories with equal intervals and a true zero (e.g., income).\"\"\""
   ]
  },
  {
   "cell_type": "code",
   "execution_count": 9,
   "id": "68ce2b12-8280-4d6b-9582-46133fcde1a6",
   "metadata": {},
   "outputs": [],
   "source": [
    "           #ANSWER:-6"
   ]
  },
  {
   "cell_type": "code",
   "execution_count": 10,
   "id": "54c4100d-5797-4f53-9956-c46a59957a04",
   "metadata": {},
   "outputs": [
    {
     "data": {
      "text/plain": [
       "\"Understanding the level of measurement is crucial in data analysis because it determines the types of statistical tests that are appropriate, the accuracy and interpretability of the results, and how the data can be manipulated and summarized. Here’s why each level of measurement matters and an example to illustrate:\\n\\nImportance of Understanding Levels of Measurement\\nAppropriate Statistical Tests:\\n\\nDifferent levels of measurement require different statistical tests. Using the wrong test can lead to invalid conclusions.\\nExample: You cannot calculate a mean for nominal data, but you can for interval and ratio data. If you have data on the colors of cars (nominal), calculating an average color is meaningless. However, if you have data on the weights of cars (ratio), calculating the mean weight provides useful information.\\nData Manipulation and Summary:\\n\\nThe level of measurement determines how data can be summarized and what descriptive statistics are appropriate.\\nExample: For ordinal data, like customer satisfaction ratings (e.g., satisfied, neutral, unsatisfied), you can determine the median or mode, but calculating the mean would not be appropriate as the distances between categories are not equal.\\nAccuracy and Interpretability:\\n\\nUsing the correct level of measurement ensures that the interpretation of results is accurate and meaningful.\\nExample: For interval data such as temperature in Celsius, you can calculate the mean and standard deviation. However, without a true zero point, saying that one temperature is twice as hot as another is not meaningful. For ratio data like weight, saying that one object is twice as heavy as another is meaningful because of the true zero point.\\nExample: Analyzing Survey Data\\nImagine you are analyzing a survey that includes the following questions:\\n\\nGender (Male, Female, Non-binary) - Nominal\\nEducation Level (High School, Bachelor's, Master's, Doctorate) - Ordinal\\nTemperature Preference (Temperature in Celsius) - Interval\\nMonthly Income (in dollars) - Ratio\\nAnalysis:\\nGender: Use mode or frequency distribution. Do not use mean or median.\\nEducation Level: Use median or mode to summarize, or use non-parametric tests like the Mann-Whitney U test for comparisons.\\nTemperature Preference: Calculate mean, median, standard deviation, and use parametric tests like t-tests or ANOVA.\\nMonthly Income: Calculate mean, median, standard deviation, and use parametric tests. Ratios are meaningful (e.g., someone earning $2000 earns twice as much as someone earning $1000).\\nUnderstanding the level of measurement ensures that the analysis is valid, the methods used are appropriate, and the interpretations made are accurate and meaningful.\""
      ]
     },
     "execution_count": 10,
     "metadata": {},
     "output_type": "execute_result"
    }
   ],
   "source": [
    "\"\"\"Understanding the level of measurement is crucial in data analysis because it determines the types of statistical tests that are appropriate, the accuracy and interpretability of the results, and how the data can be manipulated and summarized. Here’s why each level of measurement matters and an example to illustrate:\n",
    "\n",
    "Importance of Understanding Levels of Measurement\n",
    "Appropriate Statistical Tests:\n",
    "\n",
    "Different levels of measurement require different statistical tests. Using the wrong test can lead to invalid conclusions.\n",
    "Example: You cannot calculate a mean for nominal data, but you can for interval and ratio data. If you have data on the colors of cars (nominal), calculating an average color is meaningless. However, if you have data on the weights of cars (ratio), calculating the mean weight provides useful information.\n",
    "Data Manipulation and Summary:\n",
    "\n",
    "The level of measurement determines how data can be summarized and what descriptive statistics are appropriate.\n",
    "Example: For ordinal data, like customer satisfaction ratings (e.g., satisfied, neutral, unsatisfied), you can determine the median or mode, but calculating the mean would not be appropriate as the distances between categories are not equal.\n",
    "Accuracy and Interpretability:\n",
    "\n",
    "Using the correct level of measurement ensures that the interpretation of results is accurate and meaningful.\n",
    "Example: For interval data such as temperature in Celsius, you can calculate the mean and standard deviation. However, without a true zero point, saying that one temperature is twice as hot as another is not meaningful. For ratio data like weight, saying that one object is twice as heavy as another is meaningful because of the true zero point.\n",
    "Example: Analyzing Survey Data\n",
    "Imagine you are analyzing a survey that includes the following questions:\n",
    "\n",
    "Gender (Male, Female, Non-binary) - Nominal\n",
    "Education Level (High School, Bachelor's, Master's, Doctorate) - Ordinal\n",
    "Temperature Preference (Temperature in Celsius) - Interval\n",
    "Monthly Income (in dollars) - Ratio\n",
    "Analysis:\n",
    "Gender: Use mode or frequency distribution. Do not use mean or median.\n",
    "Education Level: Use median or mode to summarize, or use non-parametric tests like the Mann-Whitney U test for comparisons.\n",
    "Temperature Preference: Calculate mean, median, standard deviation, and use parametric tests like t-tests or ANOVA.\n",
    "Monthly Income: Calculate mean, median, standard deviation, and use parametric tests. Ratios are meaningful (e.g., someone earning $2000 earns twice as much as someone earning $1000).\n",
    "Understanding the level of measurement ensures that the analysis is valid, the methods used are appropriate, and the interpretations made are accurate and meaningful.\"\"\""
   ]
  },
  {
   "cell_type": "code",
   "execution_count": 11,
   "id": "a4dfd5b5-f87c-49f8-8737-9fff6751fc21",
   "metadata": {},
   "outputs": [],
   "source": [
    "        #ANSWER:-7"
   ]
  },
  {
   "cell_type": "code",
   "execution_count": 14,
   "id": "2d6479f1-2110-427f-ba48-393c9ef912fd",
   "metadata": {},
   "outputs": [
    {
     "data": {
      "text/plain": [
       "\"####Nominal Data####\\nDefinition: Categorizes items without any inherent order.\\nCharacteristics:\\n\\nNo intrinsic order\\nCategories are labels or names\\nCategories are qualitatively different\\nExamples:\\n\\nTypes of fruit (e.g., apples, oranges)\\nGender (e.g., male, female)\\nColors (e.g., red, blue)\\nAnalysis Methods:\\n\\nMode\\nFrequency Distribution\\nChi-Square Test\\n\\n###Ordinal Data####\\nDefinition: Categorizes items with a meaningful order.\\nCharacteristics:\\n\\nOrdered categories\\nRepresents rankings or levels\\nUnequal intervals between categories\\nExamples:\\n\\nEducation level (e.g., high school, bachelor's)\\nCustomer satisfaction (e.g., satisfied, neutral)\\nMovie ratings (e.g., one star, two stars)\\nAnalysis Methods:\\n\\nMedian\\nMode\\nRank-Based Tests\\nKey Differences:\\nOrder:\\nNominal: No order\\nOrdinal: Ordered categories\\nIntervals:\\nNominal: No intervals\\nOrdinal: Unequal intervals.\""
      ]
     },
     "execution_count": 14,
     "metadata": {},
     "output_type": "execute_result"
    }
   ],
   "source": [
    "\"\"\"####Nominal Data####\n",
    "Definition: Categorizes items without any inherent order.\n",
    "Characteristics:\n",
    "\n",
    "No intrinsic order\n",
    "Categories are labels or names\n",
    "Categories are qualitatively different\n",
    "Examples:\n",
    "\n",
    "Types of fruit (e.g., apples, oranges)\n",
    "Gender (e.g., male, female)\n",
    "Colors (e.g., red, blue)\n",
    "Analysis Methods:\n",
    "\n",
    "Mode\n",
    "Frequency Distribution\n",
    "Chi-Square Test\n",
    "\n",
    "###Ordinal Data####\n",
    "Definition: Categorizes items with a meaningful order.\n",
    "Characteristics:\n",
    "\n",
    "Ordered categories\n",
    "Represents rankings or levels\n",
    "Unequal intervals between categories\n",
    "Examples:\n",
    "\n",
    "Education level (e.g., high school, bachelor's)\n",
    "Customer satisfaction (e.g., satisfied, neutral)\n",
    "Movie ratings (e.g., one star, two stars)\n",
    "Analysis Methods:\n",
    "\n",
    "Median\n",
    "Mode\n",
    "Rank-Based Tests\n",
    "Key Differences:\n",
    "Order:\n",
    "Nominal: No order\n",
    "Ordinal: Ordered categories\n",
    "Intervals:\n",
    "Nominal: No intervals\n",
    "Ordinal: Unequal intervals.\"\"\""
   ]
  },
  {
   "cell_type": "code",
   "execution_count": 15,
   "id": "520b9664-da13-4f05-8c17-5c9eb1d7bf02",
   "metadata": {},
   "outputs": [],
   "source": [
    "         #ANSWER:-8"
   ]
  },
  {
   "cell_type": "code",
   "execution_count": 16,
   "id": "b62ef0dc-a642-4bd5-afff-542b55ca3ffc",
   "metadata": {},
   "outputs": [],
   "source": [
    "#A box plot (also known as a box-and-whisker plot) is commonly used to display data in terms of range."
   ]
  },
  {
   "cell_type": "code",
   "execution_count": 17,
   "id": "55c4439f-02c1-421c-84db-f63112dd75da",
   "metadata": {},
   "outputs": [],
   "source": [
    "         #ANSWER:-9"
   ]
  },
  {
   "cell_type": "code",
   "execution_count": 18,
   "id": "cce867d3-34d2-4895-842e-7babac84014e",
   "metadata": {},
   "outputs": [
    {
     "data": {
      "text/plain": [
       "'Descriptive Statistics\\nDefinition: Descriptive statistics summarize and describe the main features of a dataset, providing simple summaries about the sample and the measures.\\n\\nCharacteristics:\\n\\nSummarization: Provides measures of central tendency (mean, median, mode) and measures of variability (range, variance, standard deviation).\\nVisualization: Uses graphs and charts (e.g., histograms, pie charts, box plots) to present data visually.\\nData Presentation: Helps to present large amounts of data in a meaningful way.\\nExample:\\n\\nUse Case: A teacher wants to understand the performance of a class on a math test.\\nApplication: The teacher calculates the average score (mean), identifies the most frequent score (mode), and determines the middle score (median). The teacher also assesses the spread of scores using the standard deviation and range.\\nOutcome: The teacher gains insights into the overall performance and variability in test scores.\\nInferential Statistics\\nDefinition: Inferential statistics make inferences about populations based on samples of data. They allow for generalizations and predictions beyond the data collected.\\n\\nCharacteristics:\\n\\nHypothesis Testing: Tests hypotheses about population parameters (e.g., t-tests, chi-square tests).\\nEstimation: Estimates population parameters using sample data (e.g., confidence intervals).\\nPrediction: Makes predictions about future observations (e.g., regression analysis).\\nExample:\\n\\nUse Case: A pharmaceutical company tests the effectiveness of a new drug.\\nApplication: The company conducts a clinical trial with a sample of patients and uses inferential statistics to analyze the results. They perform hypothesis testing to determine if the drug has a significant effect and construct confidence intervals to estimate the effect size in the general population.\\nOutcome: The company can infer whether the drug is likely to be effective in the larger population based on the sample data.\\nKey Differences:\\nScope:\\nDescriptive Statistics: Describes the sample data.\\nInferential Statistics: Makes inferences about the population from the sample data.\\nPurpose:\\nDescriptive Statistics: Summarizes data.\\nInferential Statistics: Generalizes data, tests hypotheses, and makes predictions.\\nMethods:\\nDescriptive Statistics: Mean, median, mode, standard deviation, range, visualizations.\\nInferential Statistics: Hypothesis testing, confidence intervals, regression analysis.'"
      ]
     },
     "execution_count": 18,
     "metadata": {},
     "output_type": "execute_result"
    }
   ],
   "source": [
    "\"\"\"Descriptive Statistics\n",
    "Definition: Descriptive statistics summarize and describe the main features of a dataset, providing simple summaries about the sample and the measures.\n",
    "\n",
    "Characteristics:\n",
    "\n",
    "Summarization: Provides measures of central tendency (mean, median, mode) and measures of variability (range, variance, standard deviation).\n",
    "Visualization: Uses graphs and charts (e.g., histograms, pie charts, box plots) to present data visually.\n",
    "Data Presentation: Helps to present large amounts of data in a meaningful way.\n",
    "Example:\n",
    "\n",
    "Use Case: A teacher wants to understand the performance of a class on a math test.\n",
    "Application: The teacher calculates the average score (mean), identifies the most frequent score (mode), and determines the middle score (median). The teacher also assesses the spread of scores using the standard deviation and range.\n",
    "Outcome: The teacher gains insights into the overall performance and variability in test scores.\n",
    "Inferential Statistics\n",
    "Definition: Inferential statistics make inferences about populations based on samples of data. They allow for generalizations and predictions beyond the data collected.\n",
    "\n",
    "Characteristics:\n",
    "\n",
    "Hypothesis Testing: Tests hypotheses about population parameters (e.g., t-tests, chi-square tests).\n",
    "Estimation: Estimates population parameters using sample data (e.g., confidence intervals).\n",
    "Prediction: Makes predictions about future observations (e.g., regression analysis).\n",
    "Example:\n",
    "\n",
    "Use Case: A pharmaceutical company tests the effectiveness of a new drug.\n",
    "Application: The company conducts a clinical trial with a sample of patients and uses inferential statistics to analyze the results. They perform hypothesis testing to determine if the drug has a significant effect and construct confidence intervals to estimate the effect size in the general population.\n",
    "Outcome: The company can infer whether the drug is likely to be effective in the larger population based on the sample data.\n",
    "Key Differences:\n",
    "Scope:\n",
    "Descriptive Statistics: Describes the sample data.\n",
    "Inferential Statistics: Makes inferences about the population from the sample data.\n",
    "Purpose:\n",
    "Descriptive Statistics: Summarizes data.\n",
    "Inferential Statistics: Generalizes data, tests hypotheses, and makes predictions.\n",
    "Methods:\n",
    "Descriptive Statistics: Mean, median, mode, standard deviation, range, visualizations.\n",
    "Inferential Statistics: Hypothesis testing, confidence intervals, regression analysis.\"\"\""
   ]
  },
  {
   "cell_type": "code",
   "execution_count": 19,
   "id": "4d6af7bb-9b55-4784-9feb-2fe41af3b8ea",
   "metadata": {},
   "outputs": [],
   "source": [
    "            #ANSWER:-10"
   ]
  },
  {
   "cell_type": "code",
   "execution_count": 20,
   "id": "140543ce-31f1-4fd3-a63b-ce40255faa14",
   "metadata": {},
   "outputs": [
    {
     "data": {
      "text/plain": [
       "'Measures of Central Tendency\\nThese measures provide an indication of the \"center\" of a dataset.\\n\\nMean\\n\\nDefinition: The arithmetic average of all values in the dataset.\\nCalculation: Sum of all values divided by the number of values.\\nUse: Provides a general idea of the overall level of the data. It’s useful when the data distribution is symmetrical.\\nExample: For test scores [85, 90, 92, 88, 95], the mean is (85 + 90 + 92 + 88 + 95) / 5 = 90.\\nMedian\\n\\nDefinition: The middle value when the data is ordered from least to greatest. If there is an even number of observations, the median is the average of the two middle values.\\nUse: Useful when the data is skewed or contains outliers, as it is less affected by extreme values.\\nExample: For test scores [85, 88, 90, 92, 95], the median is 90. For scores [85, 88, 90, 92], the median is (88 + 90) / 2 = 89.\\nMode\\n\\nDefinition: The value or values that occur most frequently in the dataset. A dataset can have more than one mode or no mode at all.\\nUse: Useful for categorical data or identifying the most common value in the dataset.\\nExample: For test scores [85, 90, 90, 88, 95], the mode is 90.\\nMeasures of Variability\\nThese measures describe the spread or dispersion of the data.\\n\\nRange\\n\\nDefinition: The difference between the maximum and minimum values in the dataset.\\nCalculation: Maximum value minus minimum value.\\nUse: Provides a quick sense of the extent of variability but is sensitive to outliers.\\nExample: For test scores [85, 90, 92, 88, 95], the range is 95 - 85 = 10.\\nVariance\\n\\nDefinition: The average of the squared differences between each value and the mean.\\nCalculation: Sum of squared deviations from the mean divided by the number of observations (for population) or by the number of observations minus one (for sample).\\nUse: Measures the degree of spread in the data. Higher variance indicates more spread.\\nExample: For test scores [85, 90, 92, 88, 95], calculate each score\\'s deviation from the mean, square it, average these squared deviations to get the variance.\\nStandard Deviation\\n\\nDefinition: The square root of the variance.\\nCalculation: Provides a measure of dispersion in the same units as the data.\\nUse: Gives a more interpretable measure of spread compared to variance, as it is in the same unit as the data.\\nExample: For test scores [85, 90, 92, 88, 95], compute the standard deviation to understand how much the scores deviate from the mean in units of score'"
      ]
     },
     "execution_count": 20,
     "metadata": {},
     "output_type": "execute_result"
    }
   ],
   "source": [
    "\"\"\"Measures of Central Tendency\n",
    "These measures provide an indication of the \"center\" of a dataset.\n",
    "\n",
    "Mean\n",
    "\n",
    "Definition: The arithmetic average of all values in the dataset.\n",
    "Calculation: Sum of all values divided by the number of values.\n",
    "Use: Provides a general idea of the overall level of the data. It’s useful when the data distribution is symmetrical.\n",
    "Example: For test scores [85, 90, 92, 88, 95], the mean is (85 + 90 + 92 + 88 + 95) / 5 = 90.\n",
    "Median\n",
    "\n",
    "Definition: The middle value when the data is ordered from least to greatest. If there is an even number of observations, the median is the average of the two middle values.\n",
    "Use: Useful when the data is skewed or contains outliers, as it is less affected by extreme values.\n",
    "Example: For test scores [85, 88, 90, 92, 95], the median is 90. For scores [85, 88, 90, 92], the median is (88 + 90) / 2 = 89.\n",
    "Mode\n",
    "\n",
    "Definition: The value or values that occur most frequently in the dataset. A dataset can have more than one mode or no mode at all.\n",
    "Use: Useful for categorical data or identifying the most common value in the dataset.\n",
    "Example: For test scores [85, 90, 90, 88, 95], the mode is 90.\n",
    "Measures of Variability\n",
    "These measures describe the spread or dispersion of the data.\n",
    "\n",
    "Range\n",
    "\n",
    "Definition: The difference between the maximum and minimum values in the dataset.\n",
    "Calculation: Maximum value minus minimum value.\n",
    "Use: Provides a quick sense of the extent of variability but is sensitive to outliers.\n",
    "Example: For test scores [85, 90, 92, 88, 95], the range is 95 - 85 = 10.\n",
    "Variance\n",
    "\n",
    "Definition: The average of the squared differences between each value and the mean.\n",
    "Calculation: Sum of squared deviations from the mean divided by the number of observations (for population) or by the number of observations minus one (for sample).\n",
    "Use: Measures the degree of spread in the data. Higher variance indicates more spread.\n",
    "Example: For test scores [85, 90, 92, 88, 95], calculate each score's deviation from the mean, square it, average these squared deviations to get the variance.\n",
    "Standard Deviation\n",
    "\n",
    "Definition: The square root of the variance.\n",
    "Calculation: Provides a measure of dispersion in the same units as the data.\n",
    "Use: Gives a more interpretable measure of spread compared to variance, as it is in the same unit as the data.\n",
    "Example: For test scores [85, 90, 92, 88, 95], compute the standard deviation to understand how much the scores deviate from the mean in units of score\"\"\""
   ]
  },
  {
   "cell_type": "code",
   "execution_count": null,
   "id": "661a2d6f-ea09-41d8-ad11-9f911e0737f9",
   "metadata": {},
   "outputs": [],
   "source": []
  }
 ],
 "metadata": {
  "kernelspec": {
   "display_name": "Python 3 (ipykernel)",
   "language": "python",
   "name": "python3"
  },
  "language_info": {
   "codemirror_mode": {
    "name": "ipython",
    "version": 3
   },
   "file_extension": ".py",
   "mimetype": "text/x-python",
   "name": "python",
   "nbconvert_exporter": "python",
   "pygments_lexer": "ipython3",
   "version": "3.10.8"
  }
 },
 "nbformat": 4,
 "nbformat_minor": 5
}
